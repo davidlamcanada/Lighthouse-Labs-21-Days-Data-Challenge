{
  "nbformat": 4,
  "nbformat_minor": 0,
  "metadata": {
    "colab": {
      "name": "Challenge 1.ipynb",
      "provenance": [],
      "collapsed_sections": [],
      "toc_visible": true,
      "authorship_tag": "ABX9TyM16s4W8+kC+pJmXXUsNOqq",
      "include_colab_link": true
    },
    "kernelspec": {
      "name": "python3",
      "display_name": "Python 3"
    },
    "language_info": {
      "name": "python"
    }
  },
  "cells": [
    {
      "cell_type": "markdown",
      "metadata": {
        "id": "view-in-github",
        "colab_type": "text"
      },
      "source": [
        "<a href=\"https://colab.research.google.com/github/davidlamcanada/Lighthouse-Labs-21-Days-Data-Challenge/blob/main/Challenge_1.ipynb\" target=\"_parent\"><img src=\"https://colab.research.google.com/assets/colab-badge.svg\" alt=\"Open In Colab\"/></a>"
      ]
    },
    {
      "cell_type": "markdown",
      "source": [
        "# Day 1: Variables and Numbers in Python (Easy)"
      ],
      "metadata": {
        "id": "P6phGK9-yrOt"
      }
    },
    {
      "cell_type": "code",
      "source": [
        "van_tor_price = 250\n",
        "van_ott_price = 280\n",
        "van_mon_price = 240\n",
        "van_edm_price = 150\n",
        "van_cal_price = 180\n",
        "\n",
        "van_tor_travel_time = 3.5\n",
        "van_ott_travel_time = 4\n",
        "van_mon_travel_time = 4\n",
        "van_edm_travel_time = 1.5\n",
        "van_cal_travel_time = 1\n",
        "\n",
        "ott_ber_price = 1350\n",
        "mon_lon_price = 1300\n",
        "edm_lon_price = 1290\n",
        "cal_lon_price = 1400\n",
        "tor_mun_price = 990\n",
        "\n",
        "ott_layover = 3.5\n",
        "mon_layover = 2\n",
        "edm_layover = 5\n",
        "cal_layover = 2.5\n",
        "tor_layover = 1.5\n",
        "\n",
        "ott_ber_travel_time = 9\n",
        "mon_lon_travel_time = 8\n",
        "edm_lon_travel_time = 10\n",
        "cal_lon_travel_time = 10\n",
        "tor_mun_travel_time = 9.5"
      ],
      "metadata": {
        "id": "QmDPzUKT19eU"
      },
      "execution_count": null,
      "outputs": []
    },
    {
      "cell_type": "code",
      "source": [
        "value = price_paid / travel_time"
      ],
      "metadata": {
        "id": "UesK8Z5Gc6Kv",
        "colab": {
          "base_uri": "https://localhost:8080/",
          "height": 165
        },
        "outputId": "12005b3d-cf05-4139-810b-19b11ce10653"
      },
      "execution_count": null,
      "outputs": [
        {
          "output_type": "error",
          "ename": "NameError",
          "evalue": "ignored",
          "traceback": [
            "\u001b[0;31m---------------------------------------------------------------------------\u001b[0m",
            "\u001b[0;31mNameError\u001b[0m                                 Traceback (most recent call last)",
            "\u001b[0;32m<ipython-input-22-c63d4c1dbd5d>\u001b[0m in \u001b[0;36m<module>\u001b[0;34m()\u001b[0m\n\u001b[0;32m----> 1\u001b[0;31m \u001b[0mvalue\u001b[0m \u001b[0;34m=\u001b[0m \u001b[0mprice_paid\u001b[0m \u001b[0;34m/\u001b[0m \u001b[0mtravel_time\u001b[0m\u001b[0;34m\u001b[0m\u001b[0;34m\u001b[0m\u001b[0m\n\u001b[0m",
            "\u001b[0;31mNameError\u001b[0m: name 'price_paid' is not defined"
          ]
        }
      ]
    },
    {
      "cell_type": "markdown",
      "source": [
        "## What is the correct answer?\n",
        "\n",
        "1. Vancouver --> Edmonton --> London   \n",
        "2. Vancouver --> Montreal --> London\n",
        "3. Vancouver --> Ottawa --> Berlin\n",
        "4. Vancouver --> Toronto --> Munich\n",
        "5. Vancouver --> Calgary --> London"
      ],
      "metadata": {
        "id": "LYnJoAsi23Nz"
      }
    },
    {
      "cell_type": "markdown",
      "source": [
        "Hint - Don't forget to include the layover time."
      ],
      "metadata": {
        "id": "U42PhB4DLMTE"
      }
    },
    {
      "cell_type": "markdown",
      "source": [
        "## My Solution"
      ],
      "metadata": {
        "id": "l0Y_CE1h2xFh"
      }
    },
    {
      "cell_type": "markdown",
      "source": [
        "Option 1 --- Vancouver --> Edmonton --> London"
      ],
      "metadata": {
        "id": "QYh7FCgzKrhf"
      }
    },
    {
      "cell_type": "code",
      "source": [
        "Option_1 = (van_edm_price + edm_lon_price) / (van_edm_travel_time + edm_layover + edm_lon_travel_time)"
      ],
      "metadata": {
        "id": "O0MAfFSyK_MV"
      },
      "execution_count": null,
      "outputs": []
    },
    {
      "cell_type": "code",
      "source": [
        "print(Option_1)"
      ],
      "metadata": {
        "colab": {
          "base_uri": "https://localhost:8080/"
        },
        "id": "siRbAmj5MWwh",
        "outputId": "4da3478f-18e7-467b-b13a-47776422dbc8"
      },
      "execution_count": null,
      "outputs": [
        {
          "output_type": "stream",
          "name": "stdout",
          "text": [
            "87.27272727272727\n"
          ]
        }
      ]
    },
    {
      "cell_type": "markdown",
      "source": [
        "Option 2 --- Vancouver --> Montreal --> London"
      ],
      "metadata": {
        "id": "xFk02_RPKwAN"
      }
    },
    {
      "cell_type": "code",
      "source": [
        "Option_2 = (van_mon_price + mon_lon_price) / (van_mon_travel_time + mon_layover + mon_lon_travel_time)"
      ],
      "metadata": {
        "id": "JyyhfCdsMdmp"
      },
      "execution_count": null,
      "outputs": []
    },
    {
      "cell_type": "code",
      "source": [
        "print(Option_2)"
      ],
      "metadata": {
        "colab": {
          "base_uri": "https://localhost:8080/"
        },
        "id": "UjO1dLQQMdd4",
        "outputId": "88eec6d9-6da5-4c66-e2bf-304cfd97aa1c"
      },
      "execution_count": null,
      "outputs": [
        {
          "output_type": "stream",
          "name": "stdout",
          "text": [
            "110.0\n"
          ]
        }
      ]
    },
    {
      "cell_type": "markdown",
      "source": [
        "Option 3 --- Vancouver --> Ottawa --> Berlin"
      ],
      "metadata": {
        "id": "Q8FxGIyIKx9F"
      }
    },
    {
      "cell_type": "code",
      "source": [
        "Option_3 = (van_ott_price + ott_ber_price) / (van_ott_travel_time + ott_layover + ott_ber_travel_time)"
      ],
      "metadata": {
        "id": "zLzaxQ-HMeRA"
      },
      "execution_count": null,
      "outputs": []
    },
    {
      "cell_type": "code",
      "source": [
        "print(Option_3)"
      ],
      "metadata": {
        "colab": {
          "base_uri": "https://localhost:8080/"
        },
        "id": "Hup55-EPMeJY",
        "outputId": "1dfbb2a0-0d07-4578-d135-ea5fba223ca2"
      },
      "execution_count": null,
      "outputs": [
        {
          "output_type": "stream",
          "name": "stdout",
          "text": [
            "98.78787878787878\n"
          ]
        }
      ]
    },
    {
      "cell_type": "markdown",
      "source": [
        "Option 4 --- Vancouver --> Toronto --> Munich"
      ],
      "metadata": {
        "id": "JLq4r7wBKzfl"
      }
    },
    {
      "cell_type": "code",
      "source": [
        "Option_4 = (van_tor_price + tor_mun_price) / (van_tor_travel_time + tor_layover + tor_mun_travel_time)"
      ],
      "metadata": {
        "id": "fed0MsYcMe5o"
      },
      "execution_count": null,
      "outputs": []
    },
    {
      "cell_type": "code",
      "source": [
        "print(Option_4)"
      ],
      "metadata": {
        "colab": {
          "base_uri": "https://localhost:8080/"
        },
        "id": "VkxvwneBMeuv",
        "outputId": "74ea1e2d-8ba4-4fcf-a01c-d19f012a0772"
      },
      "execution_count": null,
      "outputs": [
        {
          "output_type": "stream",
          "name": "stdout",
          "text": [
            "85.51724137931035\n"
          ]
        }
      ]
    },
    {
      "cell_type": "markdown",
      "source": [
        "Option 5 --- Vancouver --> Calgary --> London"
      ],
      "metadata": {
        "id": "69nfwQHuK1bl"
      }
    },
    {
      "cell_type": "code",
      "source": [
        "Option_5 = (van_cal_price + cal_lon_price) / (van_cal_travel_time + cal_layover + cal_lon_travel_time)"
      ],
      "metadata": {
        "id": "K5NsKLTRMfek"
      },
      "execution_count": null,
      "outputs": []
    },
    {
      "cell_type": "code",
      "source": [
        "print(Option_5)"
      ],
      "metadata": {
        "colab": {
          "base_uri": "https://localhost:8080/"
        },
        "id": "_ISq92qKMfY4",
        "outputId": "e2e2c212-ff6d-4acf-9ff8-04ce4a2e1acf"
      },
      "execution_count": null,
      "outputs": [
        {
          "output_type": "stream",
          "name": "stdout",
          "text": [
            "117.03703703703704\n"
          ]
        }
      ]
    },
    {
      "cell_type": "markdown",
      "source": [
        "Based on the outputs above the cheapest flight for Dot would be **Option 4 - Vancouver --> Toronto --> Munich**.\n",
        "\n"
      ],
      "metadata": {
        "id": "ZMoR_JQ_OhxU"
      }
    }
  ]
}