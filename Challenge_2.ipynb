{
  "nbformat": 4,
  "nbformat_minor": 0,
  "metadata": {
    "colab": {
      "name": "Challenge 2.ipynb",
      "provenance": [],
      "collapsed_sections": [],
      "toc_visible": true,
      "authorship_tag": "ABX9TyMU6+ucvHWiLkcwol1MpyZW",
      "include_colab_link": true
    },
    "kernelspec": {
      "name": "python3",
      "display_name": "Python 3"
    },
    "language_info": {
      "name": "python"
    }
  },
  "cells": [
    {
      "cell_type": "markdown",
      "metadata": {
        "id": "view-in-github",
        "colab_type": "text"
      },
      "source": [
        "<a href=\"https://colab.research.google.com/github/davidlamcanada/Lighthouse-Labs-21-Days-Data-Challenge/blob/main/Challenge_2.ipynb\" target=\"_parent\"><img src=\"https://colab.research.google.com/assets/colab-badge.svg\" alt=\"Open In Colab\"/></a>"
      ]
    },
    {
      "cell_type": "markdown",
      "source": [
        "# Day 2: Strings and the Print Function in Python (Easy)\n"
      ],
      "metadata": {
        "id": "P6phGK9-yrOt"
      }
    },
    {
      "cell_type": "markdown",
      "source": [
        "## Challenge\n",
        "\n",
        "name: `Dot`\n",
        "\n",
        "Required format: `#DOT!`"
      ],
      "metadata": {
        "id": "6MUfeXfW1ILN"
      }
    },
    {
      "cell_type": "code",
      "source": [
        "name = '  Dot  '"
      ],
      "metadata": {
        "id": "QmDPzUKT19eU"
      },
      "execution_count": 28,
      "outputs": []
    },
    {
      "cell_type": "markdown",
      "source": [
        "## What is the correct answer?\n",
        "\n",
        "1.   +, rstrip(), upper()\n",
        "2.   +, strip(), lower()\n",
        "3.   +, lstrip(), upper()\n",
        "4.   +, strip(), upper() \n",
        "5.   +, strip()\n",
        "\n",
        "\n"
      ],
      "metadata": {
        "id": "LYnJoAsi23Nz"
      }
    },
    {
      "cell_type": "markdown",
      "source": [
        "## My Solution"
      ],
      "metadata": {
        "id": "l0Y_CE1h2xFh"
      }
    },
    {
      "cell_type": "markdown",
      "source": [
        "+, rstrip(), upper()"
      ],
      "metadata": {
        "id": "hYkjSvpBSBAx"
      }
    },
    {
      "cell_type": "code",
      "source": [
        "name_1 = ('+') + name.rstrip().upper() + ('!')"
      ],
      "metadata": {
        "id": "Gscog90XSnn5"
      },
      "execution_count": 29,
      "outputs": []
    },
    {
      "cell_type": "code",
      "source": [
        "print(name_1)"
      ],
      "metadata": {
        "colab": {
          "base_uri": "https://localhost:8080/"
        },
        "id": "c1CqQZSoS6EO",
        "outputId": "58c0b0de-47e9-468a-fbb8-1ac96a6030e4"
      },
      "execution_count": 30,
      "outputs": [
        {
          "output_type": "stream",
          "name": "stdout",
          "text": [
            "+  DOT!\n"
          ]
        }
      ]
    },
    {
      "cell_type": "markdown",
      "source": [
        "+, strip(), lower()"
      ],
      "metadata": {
        "id": "g0SLdsmQSBkv"
      }
    },
    {
      "cell_type": "code",
      "source": [
        "name_2 = ('+') + name.strip().lower() + ('!')"
      ],
      "metadata": {
        "id": "8KH0FHbFTFdd"
      },
      "execution_count": 31,
      "outputs": []
    },
    {
      "cell_type": "code",
      "source": [
        "print(name_2)"
      ],
      "metadata": {
        "colab": {
          "base_uri": "https://localhost:8080/"
        },
        "id": "MpLSpu3mTFU2",
        "outputId": "d0d0f990-1581-4a28-804c-d12cdd37d8a0"
      },
      "execution_count": 32,
      "outputs": [
        {
          "output_type": "stream",
          "name": "stdout",
          "text": [
            "+dot!\n"
          ]
        }
      ]
    },
    {
      "cell_type": "markdown",
      "source": [
        "+, lstrip(), upper()"
      ],
      "metadata": {
        "id": "jv_8IDASSC5I"
      }
    },
    {
      "cell_type": "code",
      "source": [
        "name_3 = ('+') + name.lstrip().upper() + ('!')"
      ],
      "metadata": {
        "id": "6lgOMvlcTGSV"
      },
      "execution_count": 33,
      "outputs": []
    },
    {
      "cell_type": "code",
      "source": [
        "print(name_3)"
      ],
      "metadata": {
        "colab": {
          "base_uri": "https://localhost:8080/"
        },
        "id": "HGArrdQyTGLl",
        "outputId": "e45abab2-e66e-4b53-deff-476901b649ba"
      },
      "execution_count": 34,
      "outputs": [
        {
          "output_type": "stream",
          "name": "stdout",
          "text": [
            "+DOT  !\n"
          ]
        }
      ]
    },
    {
      "cell_type": "markdown",
      "source": [
        "+, strip(), upper()"
      ],
      "metadata": {
        "id": "t-gVLGfMSC2A"
      }
    },
    {
      "cell_type": "code",
      "source": [
        "name_4 = ('+') + name.strip().upper() + ('!')"
      ],
      "metadata": {
        "id": "_JhCr557TG4n"
      },
      "execution_count": 35,
      "outputs": []
    },
    {
      "cell_type": "code",
      "source": [
        "print(name_4)"
      ],
      "metadata": {
        "colab": {
          "base_uri": "https://localhost:8080/"
        },
        "id": "VQywJnaWTGzu",
        "outputId": "9bff00ef-c376-4d88-95ab-73b3acc07f40"
      },
      "execution_count": 36,
      "outputs": [
        {
          "output_type": "stream",
          "name": "stdout",
          "text": [
            "+DOT!\n"
          ]
        }
      ]
    },
    {
      "cell_type": "markdown",
      "source": [
        "+, strip()"
      ],
      "metadata": {
        "id": "CES40X4CSCxA"
      }
    },
    {
      "cell_type": "code",
      "source": [
        "name_5 = ('+') + name.strip() + ('!')"
      ],
      "metadata": {
        "id": "t2g7laulTHi2"
      },
      "execution_count": 37,
      "outputs": []
    },
    {
      "cell_type": "code",
      "source": [
        "print(name_5)"
      ],
      "metadata": {
        "colab": {
          "base_uri": "https://localhost:8080/"
        },
        "id": "dPWyUmH4THeN",
        "outputId": "4b5582d7-4fa2-4fe9-ddfa-876a8320eea9"
      },
      "execution_count": 38,
      "outputs": [
        {
          "output_type": "stream",
          "name": "stdout",
          "text": [
            "+Dot!\n"
          ]
        }
      ]
    },
    {
      "cell_type": "markdown",
      "source": [
        "Based on the outputs above. The correct answer would be **name_4 - +, strip(), upper()**"
      ],
      "metadata": {
        "id": "LJXasRFaT23b"
      }
    }
  ]
}